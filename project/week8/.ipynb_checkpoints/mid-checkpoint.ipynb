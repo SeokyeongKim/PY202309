{
 "cells": [
  {
   "cell_type": "code",
   "execution_count": 11,
   "id": "97256851",
   "metadata": {},
   "outputs": [
    {
     "name": "stdout",
     "output_type": "stream",
     "text": [
      "영어 쿼리를 입력하세요 : hello\n",
      "There is no similar sentence.\n"
     ]
    }
   ],
   "source": [
    "import operator\n",
    "\n",
    "def preprocess(sentense):\n",
    "    preprocessed_sentence = set(sentense.strip().lower().split(\" \"))\n",
    "    return preprocessed_sentence\n",
    "\n",
    "\n",
    "def indexing(file_name):\n",
    "    file_tokens_pairs = []\n",
    "    lines = open(file_name, \"r\", encoding = \"utf-8\").readlines()\n",
    "    for line in lines:\n",
    "        tokens = preprocess(line)\n",
    "        file_tokens_pairs.append(tokens)\n",
    "    #print(file_tokens_pairs)\n",
    "        \n",
    "    return file_tokens_pairs\n",
    "\n",
    "def calc_similarity(preprocessed_query, preprocessed_sentences):\n",
    "    score_dict = {}\n",
    "    for i, token in enumerate(preprocessed_sentences):\n",
    "        alll = preprocessed_query | token\n",
    "        same = preprocessed_query & token\n",
    "        simil = len(same) / len(alll)\n",
    "        score_dict[i] = simil\n",
    "    #print(score_dict)\n",
    "            \n",
    "    return score_dict\n",
    "\n",
    "\n",
    "# 1.Indexing\n",
    "file_name = \"jhe-koen-dev.en\"\n",
    "file_tokens_pairs = indexing(file_name)\n",
    "\n",
    "#2. Input the query\n",
    "query = input(\"영어 쿼리를 입력하세요 : \")\n",
    "preprocessed_query = preprocess(query)\n",
    "query_token_set = set(preprocessed_query)\n",
    "#print(query_token_set)\n",
    "\n",
    "#3. Calculate similarities based on a same token set\n",
    "score_dict = calc_similarity(query_token_set,file_tokens_pairs)\n",
    "\n",
    "#4. Sort the similarity list\n",
    "sorted_score_list = sorted(score_dict.items(), key = operator.itemgetter(1), reverse=True)\n",
    "\n",
    "#5. Print the result\n",
    "if sorted_score_list[0][0] == 0.0:\n",
    "    print(\"There is no similar sentence.\")\n",
    "else:\n",
    "    print(\"rank\", \"index\", \"score\", \"sentence\", sep = \"\\t\")\n",
    "    rank = 1\n",
    "    for i, score in sorted_score_list:\n",
    "        print(rank, i, score, \" \".join(file_tokens_pairs[i]), sep =\"\\t\")\n",
    "        if rank == 10:\n",
    "            break\n",
    "        rank = rank +1"
   ]
  },
  {
   "cell_type": "code",
   "execution_count": null,
   "id": "cd97fe84",
   "metadata": {},
   "outputs": [],
   "source": []
  }
 ],
 "metadata": {
  "kernelspec": {
   "display_name": "Python 3 (ipykernel)",
   "language": "python",
   "name": "python3"
  },
  "language_info": {
   "codemirror_mode": {
    "name": "ipython",
    "version": 3
   },
   "file_extension": ".py",
   "mimetype": "text/x-python",
   "name": "python",
   "nbconvert_exporter": "python",
   "pygments_lexer": "ipython3",
   "version": "3.11.4"
  }
 },
 "nbformat": 4,
 "nbformat_minor": 5
}
