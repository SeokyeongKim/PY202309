{
 "cells": [
  {
   "cell_type": "code",
   "execution_count": 3,
   "id": "2f2b0dea",
   "metadata": {},
   "outputs": [
    {
     "name": "stdout",
     "output_type": "stream",
     "text": [
      "|20231016\n",
      "|\n",
      "|파이썬 수업\n",
      "|\n",
      "||\n"
     ]
    }
   ],
   "source": [
    "fp = open(\"test.txt\",\"r\", encoding=\"utf-8\")\n",
    "data_line=fp.readline() #한줄씩\n",
    "print(\"|\"+data_line+\"|\")\n",
    "\n",
    "data_line=fp.readline()\n",
    "print(\"|\"+data_line+\"|\")\n",
    "\n",
    "data_line=fp.readline()\n",
    "print(\"|\"+data_line+\"|\")\n"
   ]
  },
  {
   "cell_type": "code",
   "execution_count": 10,
   "id": "eb1ecfb3",
   "metadata": {},
   "outputs": [
    {
     "name": "stdout",
     "output_type": "stream",
     "text": [
      "['20231016\\n', '파이썬 수업\\n']\n",
      "20231016\n",
      "~~~~~~~~ \n",
      "파이썬 수업\n",
      "\n"
     ]
    }
   ],
   "source": [
    "fp = open(\"test.txt\",\"r\", encoding=\"utf-8\")\n",
    "data_lines=fp.readlines() #한번에\n",
    "print(data_lines)\n",
    "print('~~~~~~~~ \\n'.join(data_lines))"
   ]
  },
  {
   "cell_type": "code",
   "execution_count": 14,
   "id": "dc03aca2",
   "metadata": {},
   "outputs": [],
   "source": [
    "lines=[\"1st Line\", \"2nd Line\"]\n",
    "fp = open(\"data_lines.txt\",\"w\")\n",
    "fp.writelines(lines)\n",
    "fp.close()\n",
    "\n",
    "fp = open(\"data_lines_join.txt\",\"w\")\n",
    "fp.writelines(' \\n'.join(lines))\n",
    "fp.close()\n",
    "\n",
    "fp = open(\"data_line_join.txt\",\"w\")\n",
    "fp.writelines(lines)\n",
    "fp.close()\n",
    "\n",
    "fp = open(\"data_line.txt\",\"w\")\n",
    "fp.writelines(lines)\n",
    "fp.close()\n"
   ]
  },
  {
   "cell_type": "code",
   "execution_count": 19,
   "id": "222f4fca",
   "metadata": {},
   "outputs": [
    {
     "name": "stdout",
     "output_type": "stream",
     "text": [
      "========== Finish to copy the file =========\n"
     ]
    }
   ],
   "source": [
    "in_fp, out_fp = None, None\n",
    "read_str=\"\"\n",
    "\n",
    "in_fp=open(\"./data.txt\", \"r\", encoding=\"utf8\")\n",
    "out_fp=open(\"./data_copy.txt\",\"w\",encoding=\"utf8\")\n",
    "\n",
    "in_lines = in_fp.readlines()\n",
    "for in_str in in_lines:\n",
    "    out_fp.writelines(in_str)\n",
    "    \n",
    "in_fp.close()\n",
    "out_fp.close()\n",
    "print(\"========== Finish to copy the file =========\")"
   ]
  },
  {
   "cell_type": "code",
   "execution_count": 20,
   "id": "9e26862d",
   "metadata": {},
   "outputs": [
    {
     "name": "stdout",
     "output_type": "stream",
     "text": [
      "Input a source file path & name : ./data.txt\n",
      "Out a source file path & name : ./data_copy2.txt\n",
      "========== Finish to copy the file =========\n"
     ]
    }
   ],
   "source": [
    "in_fp, out_fp = None, None\n",
    "read_str=\"\"\n",
    "\n",
    "in_file_path = input(\"Input a source file path & name : \")\n",
    "out_file_path = input(\"Out a source file path & name : \")\n",
    "\n",
    "in_fp=open(in_file_path, \"r\", encoding=\"utf8\")\n",
    "out_fp=open(out_file_path,\"w\",encoding=\"utf8\")\n",
    "\n",
    "in_lines = in_fp.readlines()\n",
    "for in_str in in_lines:\n",
    "    out_fp.writelines(in_str)\n",
    "    \n",
    "in_fp.close()\n",
    "out_fp.close()\n",
    "print(\"========== Finish to copy the file =========\")"
   ]
  },
  {
   "cell_type": "code",
   "execution_count": 22,
   "id": "bcc90b04",
   "metadata": {},
   "outputs": [
    {
     "name": "stdout",
     "output_type": "stream",
     "text": [
      "ord(파) =  54028\n",
      "chr(파) =  파\n"
     ]
    }
   ],
   "source": [
    "ord_text = ord(\"파\")\n",
    "chr_text = chr(ord(\"파\"))\n",
    "print(\"ord(파) = \", ord_text)\n",
    "print(\"chr(파) = \", chr_text)"
   ]
  },
  {
   "cell_type": "code",
   "execution_count": 23,
   "id": "79b84a7c",
   "metadata": {},
   "outputs": [
    {
     "name": "stdout",
     "output_type": "stream",
     "text": [
      "ord(파) =  54028\n",
      "chr(54028+1) =  팍\n",
      "ord(팍) =  54029\n"
     ]
    }
   ],
   "source": [
    "ord_text = ord(\"파\")\n",
    "chr_text = chr(ord(\"파\")+1)\n",
    "print(\"ord(파) = \", ord_text)\n",
    "print(\"chr(\"+str(ord(\"파\"))+\"+1) = \", chr_text)\n",
    "print(\"ord(\"+chr_text+\") = \", ord(chr_text))"
   ]
  },
  {
   "cell_type": "code",
   "execution_count": 24,
   "id": "52d28a8e",
   "metadata": {},
   "outputs": [
    {
     "name": "stdout",
     "output_type": "stream",
     "text": [
      "chr(ord(\"파\"))+0 = 파\n",
      "chr(ord(\"파\"))+1 = 팍\n",
      "chr(ord(\"파\"))+2 = 팎\n",
      "chr(ord(\"파\"))+3 = 팏\n",
      "chr(ord(\"파\"))+4 = 판\n"
     ]
    }
   ],
   "source": [
    "for i in range(5):\n",
    "    chr_text = chr(ord(\"파\")+i)\n",
    "    print(\"chr(ord(\\\"파\\\"))+\" +str(i), \"=\", chr_text)"
   ]
  },
  {
   "cell_type": "code",
   "execution_count": 27,
   "id": "53adb495",
   "metadata": {},
   "outputs": [
    {
     "name": "stdout",
     "output_type": "stream",
     "text": [
      "1.암호화, 2.부호화 중 선택하세요. : 1\n",
      "입력 파일 이름을 입력하세요 : data.txt\n",
      "출력 파일 이름을 입력하세요 : data_enc.txt\n",
      "data.txt --> data_enc.txt Finish to transform\n"
     ]
    }
   ],
   "source": [
    "choice = int(input(\"1.암호화, 2.부호화 중 선택하세요. : \"))\n",
    "in_filename = input(\"입력 파일 이름을 입력하세요 : \")\n",
    "out_filename = input(\"출력 파일 이름을 입력하세요 : \")\n",
    "\n",
    "token_jump = 0\n",
    "\n",
    "if choice ==1:\n",
    "    token_jump = 100\n",
    "elif choice ==2:\n",
    "    token_jump = -100\n",
    "    \n",
    "in_fp = open(in_filename, \"r\", encoding=\"utf8\")\n",
    "out_fp = open(out_filename, \"w\", encoding=\"utf8\")\n",
    "\n",
    "in_lines = in_fp.readlines()\n",
    "\n",
    "for in_line in in_lines:\n",
    "    out_str = \"\"\n",
    "    for i in range(0,len(in_line)):\n",
    "        ch=in_line[i]\n",
    "        ch_num=ord(ch)\n",
    "        ch_num=ch_num+token_jump\n",
    "        ch2=chr(ch_num)\n",
    "        out_str=out_str+ch2\n",
    "    out_fp.write(out_str)\n",
    "out_fp.close()\n",
    "in_fp.close()\n",
    "print(\"%s --> %s Finish to transform\"%(in_filename, out_filename))"
   ]
  },
  {
   "cell_type": "code",
   "execution_count": null,
   "id": "a439aa17",
   "metadata": {},
   "outputs": [],
   "source": []
  }
 ],
 "metadata": {
  "kernelspec": {
   "display_name": "Python 3 (ipykernel)",
   "language": "python",
   "name": "python3"
  },
  "language_info": {
   "codemirror_mode": {
    "name": "ipython",
    "version": 3
   },
   "file_extension": ".py",
   "mimetype": "text/x-python",
   "name": "python",
   "nbconvert_exporter": "python",
   "pygments_lexer": "ipython3",
   "version": "3.11.4"
  }
 },
 "nbformat": 4,
 "nbformat_minor": 5
}
