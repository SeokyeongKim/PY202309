{
 "cells": [
  {
   "cell_type": "code",
   "execution_count": 25,
   "id": "f9fafbb5",
   "metadata": {},
   "outputs": [
    {
     "name": "stdout",
     "output_type": "stream",
     "text": [
      "1. current list =  [30, 10, 20, 50, 40]\n"
     ]
    }
   ],
   "source": [
    "# make currnet list\n",
    "sample_list = [30,10,20, 50, 40]\n",
    "print(\"1. current list = \", sample_list)"
   ]
  },
  {
   "cell_type": "code",
   "execution_count": 26,
   "id": "cc560057",
   "metadata": {},
   "outputs": [
    {
     "name": "stdout",
     "output_type": "stream",
     "text": [
      "2. append(60) =  [30, 10, 20, 50, 40, 60]\n"
     ]
    }
   ],
   "source": [
    "# append 60 in current list\n",
    "sample_list.append(60)\n",
    "print(\"2. append(60) = \", sample_list)"
   ]
  },
  {
   "cell_type": "code",
   "execution_count": 27,
   "id": "eefd1e98",
   "metadata": {},
   "outputs": [
    {
     "name": "stdout",
     "output_type": "stream",
     "text": [
      "3. item after pop =  60\n",
      "4. list after pop =  [30, 10, 20, 50, 40]\n"
     ]
    }
   ],
   "source": [
    "# delete behind of list(60) and check current list\n",
    "print(\"3. item after pop = \", sample_list.pop())\n",
    "print(\"4. list after pop = \", sample_list)"
   ]
  },
  {
   "cell_type": "code",
   "execution_count": 28,
   "id": "642ffa9c",
   "metadata": {},
   "outputs": [
    {
     "name": "stdout",
     "output_type": "stream",
     "text": [
      "5. after sort() =  [10, 20, 30, 40, 50]\n"
     ]
    }
   ],
   "source": [
    "# sort current list\n",
    "sample_list.sort()\n",
    "print(\"5. after sort() = \", sample_list)"
   ]
  },
  {
   "cell_type": "code",
   "execution_count": 29,
   "id": "c4953edf",
   "metadata": {},
   "outputs": [
    {
     "name": "stdout",
     "output_type": "stream",
     "text": [
      "6. after reverse() =  [50, 40, 30, 20, 10]\n"
     ]
    }
   ],
   "source": [
    "# sort to reverse current list\n",
    "sample_list.reverse()\n",
    "print(\"6. after reverse() = \", sample_list)"
   ]
  },
  {
   "cell_type": "code",
   "execution_count": 30,
   "id": "00143726",
   "metadata": {},
   "outputs": [
    {
     "name": "stdout",
     "output_type": "stream",
     "text": [
      "7. index for 20 =  3\n"
     ]
    }
   ],
   "source": [
    "# print index of 20\n",
    "print(\"7. index for 20 = \", sample_list.index(20))"
   ]
  },
  {
   "cell_type": "code",
   "execution_count": 31,
   "id": "4a6c5c0d",
   "metadata": {},
   "outputs": [
    {
     "name": "stdout",
     "output_type": "stream",
     "text": [
      "8. after insert(2,222) =  [50, 40, 222, 30, 20, 10]\n"
     ]
    }
   ],
   "source": [
    "# insert 222 in index 2\n",
    "sample_list.insert(2,222)\n",
    "print(\"8. after insert(2,222) = \", sample_list)"
   ]
  },
  {
   "cell_type": "code",
   "execution_count": 32,
   "id": "c31ed88d",
   "metadata": {},
   "outputs": [
    {
     "name": "stdout",
     "output_type": "stream",
     "text": [
      "9. after remove(2,222) =  [50, 40, 30, 20, 10]\n"
     ]
    }
   ],
   "source": [
    "# remove 222 in index 2\n",
    "sample_list.remove(222)\n",
    "print(\"9. after remove(2,222) = \", sample_list)"
   ]
  },
  {
   "cell_type": "code",
   "execution_count": 33,
   "id": "fe549beb",
   "metadata": {},
   "outputs": [
    {
     "name": "stdout",
     "output_type": "stream",
     "text": [
      "10. after extend([100,200,300]) =  [50, 40, 30, 20, 10, 100, 200, 100]\n"
     ]
    }
   ],
   "source": [
    "# make new list and extend to current list\n",
    "new_list = [100,200,100]\n",
    "sample_list.extend(new_list)\n",
    "print(\"10. after extend([100,200,300]) = \", sample_list)"
   ]
  },
  {
   "cell_type": "code",
   "execution_count": 24,
   "id": "30f6ff6a",
   "metadata": {},
   "outputs": [
    {
     "name": "stdout",
     "output_type": "stream",
     "text": [
      "11. the number of 100 =  2\n"
     ]
    }
   ],
   "source": [
    "# count to number of 100 in current list\n",
    "print(\"11. the number of 100 = \", sample_list.count(100))"
   ]
  },
  {
   "cell_type": "code",
   "execution_count": 1,
   "id": "119719be",
   "metadata": {},
   "outputs": [
    {
     "name": "stdout",
     "output_type": "stream",
     "text": [
      "bye\n"
     ]
    }
   ],
   "source": [
    "# import turtle\n",
    "import turtle\n",
    "t = turtle.Turtle()\n",
    "\n",
    "# set the radius and move parameter\n",
    "radius = 200\n",
    "move = 40\n",
    "\n",
    "# move turtle based on setting parameter\n",
    "t.circle(radius)\n",
    "t.fd(move)\n",
    "t.circle(radius)\n",
    "t.fd(move)\n",
    "t.circle(radius)\n",
    "t.fd(move)\n",
    "\n",
    "turtle.done()\n",
    "\n",
    "# if move is done, print \"bye\"\n",
    "try:\n",
    "    turtle.bye()\n",
    "except:\n",
    "    print(\"bye\")"
   ]
  },
  {
   "cell_type": "code",
   "execution_count": 2,
   "id": "5185dbe0",
   "metadata": {},
   "outputs": [
    {
     "name": "stdout",
     "output_type": "stream",
     "text": [
      "bye\n"
     ]
    }
   ],
   "source": [
    "# import turtle\n",
    "import turtle\n",
    "t = turtle.Turtle()\n",
    "\n",
    "# set radius list : 100,20,50\n",
    "radius_list = [100,200,50]\n",
    "\n",
    "# set move parameter\n",
    "move = 20\n",
    "t.shape(\"turtle\")\n",
    "\n",
    "# for length of radius list, move the turtle based on setting parameter\n",
    "for i in range(0, len(radius_list)):\n",
    "    radius = radius_list[i]\n",
    "    t.circle(radius)\n",
    "    t.fd(move)\n",
    "\n",
    "turtle.done()\n",
    "\n",
    "# if move is done, print \"bye\"\n",
    "try:\n",
    "    turtle.bye()\n",
    "except:\n",
    "    print(\"bye\")"
   ]
  }
 ],
 "metadata": {
  "kernelspec": {
   "display_name": "Python 3 (ipykernel)",
   "language": "python",
   "name": "python3"
  },
  "language_info": {
   "codemirror_mode": {
    "name": "ipython",
    "version": 3
   },
   "file_extension": ".py",
   "mimetype": "text/x-python",
   "name": "python",
   "nbconvert_exporter": "python",
   "pygments_lexer": "ipython3",
   "version": "3.11.4"
  }
 },
 "nbformat": 4,
 "nbformat_minor": 5
}
