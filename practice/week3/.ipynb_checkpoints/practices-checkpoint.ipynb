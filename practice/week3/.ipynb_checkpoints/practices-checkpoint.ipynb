{
 "cells": [
  {
   "cell_type": "code",
   "execution_count": 1,
   "id": "51e29432",
   "metadata": {},
   "outputs": [
    {
     "name": "stdout",
     "output_type": "stream",
     "text": [
      "Enter number 1: 50\n",
      "Enter number 2: 40\n",
      "Enter number 3: 90\n",
      "Enter number 4: 10\n",
      "Enter number 5: 30\n",
      "max: 90.0\n",
      "min: 10.0\n",
      "average: 44.0\n"
     ]
    }
   ],
   "source": [
    "# create a list\n",
    "numbers = []\n",
    "\n",
    "# for range of 5, enter the numbers and append to list\n",
    "for i in range(5):\n",
    "    num = float(input(f\"Enter number {i + 1}: \"))\n",
    "    numbers.append(num)\n",
    "\n",
    "# extract the maximum number\n",
    "maximum = max(numbers)\n",
    "\n",
    "# extract the minimum number\n",
    "minimum = min(numbers)\n",
    "\n",
    "# sum maximum and minimum number\n",
    "total = sum(numbers)\n",
    "\n",
    "# calculate average \n",
    "average = total / len(numbers)\n",
    "\n",
    "print(f\"max: {maximum}\")\n",
    "print(f\"min: {minimum}\")\n",
    "print(f\"average: {average}\")"
   ]
  },
  {
   "cell_type": "code",
   "execution_count": 2,
   "id": "a45bca48",
   "metadata": {},
   "outputs": [
    {
     "name": "stdout",
     "output_type": "stream",
     "text": [
      "What is your favorite singer? : Oh My Girl\n",
      "['BTS', 'Black Pink', 'Oh My Girl']\n"
     ]
    }
   ],
   "source": [
    "# create a favorite singers list\n",
    "favorite_singers = [\"BTS\", \"Black Pink\"]\n",
    "\n",
    "#input the user's favorite singer\n",
    "new_singer = input(\"What is your favorite singer? : \")\n",
    "\n",
    "#append the user's favorite singer into list\n",
    "favorite_singers.append(new_singer)\n",
    "\n",
    "#sort the current list\n",
    "favorite_singers.sort()\n",
    "\n",
    "print(favorite_singers)\n"
   ]
  },
  {
   "cell_type": "code",
   "execution_count": 3,
   "id": "ae49d139",
   "metadata": {},
   "outputs": [
    {
     "name": "stdout",
     "output_type": "stream",
     "text": [
      "Please enter one of the sport name from above : golf\n",
      "The index of golf is 4\n",
      "Enter a number between 0 and 4: 2\n",
      "The sport at index 2 is baseball\n"
     ]
    }
   ],
   "source": [
    "# Create a tuples of five sports \n",
    "sports_tuple = (\"tennis\", \"football\", \"baseball\",\"basketball\", \"golf\")\n",
    "\n",
    "# input one of the sport name\n",
    "user_sport_input = input(\"Please enter one of the sport name from above : \")\n",
    "\n",
    "# print the index of sport name\n",
    "if user_sport_input in sports_tuple:\n",
    "    index_of_sport = sports_tuple.index(user_sport_input)\n",
    "    print(f\"The index of {user_sport_input} is {index_of_sport}\")\n",
    "else:\n",
    "    print(f\"{user_sport_input} is not in the list of sports.\")\n",
    "\n",
    "# input one of the numbers between 0 to 4\n",
    "user_index_input = int(input(\"Enter a number between 0 and 4: \"))\n",
    "\n",
    "# print the sport name of index\n",
    "if 1 <= user_index_input <= len(sports_tuple):\n",
    "    sport_at_index = sports_tuple[user_index_input]\n",
    "    print(f\"The sport at index {user_index_input} is {sport_at_index}\")\n",
    "else:\n",
    "    print(\"Invalid index input. Please enter a number between 0 and 4.\")\n"
   ]
  },
  {
   "cell_type": "code",
   "execution_count": 1,
   "id": "8793e0aa",
   "metadata": {},
   "outputs": [
    {
     "name": "stdout",
     "output_type": "stream",
     "text": [
      "Enter 5 items you sold yesterday : Americano, Caffe Latte, Caffe Mocha, Iced Tea\n",
      "Enter 5 items you sold today : Americano, Americano, Americano, Iced Tea, Caffe Latte\n",
      "Yesterday sales: Americano, Caffe Latte, Caffe Mocha, Iced Tea\n",
      "Today sales: Americano, Americano, Americano, Iced Tea, Caffe Latte\n",
      "Total sales : Americano, Caffe Latte, Caffe Mocha, Iced Tea, Americano, Americano, Americano, Iced Tea, Caffe Latte\n",
      "Sales quantity of Americano: 4\n"
     ]
    }
   ],
   "source": [
    "# input the 5 items you sold yesterday\n",
    "yesterday_sales = input(\"Enter 5 items you sold yesterday : \").split(\", \")\n",
    "\n",
    "# input the 5 items you sold today\n",
    "today_sales = input(\"Enter 5 items you sold today : \").split(\", \")\n",
    "\n",
    "# print the items sold yesterday and today\n",
    "print(\"Yesterday sales:\", \", \".join(yesterday_sales))\n",
    "print(\"Today sales:\", \", \".join(today_sales))\n",
    "\n",
    "# integrate the two lists into one list and print the items\n",
    "total_sales = yesterday_sales + today_sales\n",
    "print(\"Total sales :\", \", \".join(total_sales))\n",
    "\n",
    "# print the sales numbers of Americano\n",
    "americano_sales = total_sales.count(\"Americano\")\n",
    "print(\"Sales quantity of Americano:\", americano_sales)\n"
   ]
  }
 ],
 "metadata": {
  "kernelspec": {
   "display_name": "Python 3 (ipykernel)",
   "language": "python",
   "name": "python3"
  },
  "language_info": {
   "codemirror_mode": {
    "name": "ipython",
    "version": 3
   },
   "file_extension": ".py",
   "mimetype": "text/x-python",
   "name": "python",
   "nbconvert_exporter": "python",
   "pygments_lexer": "ipython3",
   "version": "3.11.4"
  }
 },
 "nbformat": 4,
 "nbformat_minor": 5
}
