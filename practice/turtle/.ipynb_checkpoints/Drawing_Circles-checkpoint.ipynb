{
 "cells": [
  {
   "cell_type": "code",
   "execution_count": 6,
   "id": "cbc95239",
   "metadata": {},
   "outputs": [
    {
     "name": "stdout",
     "output_type": "stream",
     "text": [
      "bye\n"
     ]
    }
   ],
   "source": [
    "# import turtle\n",
    "import turtle\n",
    "t = turtle.Turtle()\n",
    "\n",
    "# set the radius and move parameter\n",
    "radius = 200\n",
    "move = 40\n",
    "\n",
    "# move turtle based on setting parameter\n",
    "t.circle(radius)\n",
    "t.fd(move)\n",
    "t.circle(radius)\n",
    "t.fd(move)\n",
    "t.circle(radius)\n",
    "t.fd(move)\n",
    "\n",
    "turtle.done()\n",
    "\n",
    "# if move is done, print \"bye\"\n",
    "try:\n",
    "    turtle.bye()\n",
    "except:\n",
    "    print(\"bye\")"
   ]
  },
  {
   "cell_type": "code",
   "execution_count": 7,
   "id": "f24223e2",
   "metadata": {},
   "outputs": [
    {
     "name": "stdout",
     "output_type": "stream",
     "text": [
      "bye\n"
     ]
    }
   ],
   "source": [
    "# import turtle\n",
    "import turtle\n",
    "t = turtle.Turtle()\n",
    "\n",
    "# set radius list : 100,20,50\n",
    "radius_list = [100,200,50]\n",
    "\n",
    "# set move parameter\n",
    "move = 20\n",
    "t.shape(\"turtle\")\n",
    "\n",
    "# for length of radius list, move the turtle based on setting parameter\n",
    "for i in range(0, len(radius_list)):\n",
    "    radius = radius_list[i]\n",
    "    t.circle(radius)\n",
    "    t.fd(move)\n",
    "\n",
    "turtle.done()\n",
    "\n",
    "# if move is done, print \"bye\"\n",
    "try:\n",
    "    turtle.bye()\n",
    "except:\n",
    "    print(\"bye\")"
   ]
  }
 ],
 "metadata": {
  "kernelspec": {
   "display_name": "Python 3 (ipykernel)",
   "language": "python",
   "name": "python3"
  },
  "language_info": {
   "codemirror_mode": {
    "name": "ipython",
    "version": 3
   },
   "file_extension": ".py",
   "mimetype": "text/x-python",
   "name": "python",
   "nbconvert_exporter": "python",
   "pygments_lexer": "ipython3",
   "version": "3.11.4"
  }
 },
 "nbformat": 4,
 "nbformat_minor": 5
}
