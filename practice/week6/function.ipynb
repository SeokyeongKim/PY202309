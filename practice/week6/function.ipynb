{
 "cells": [
  {
   "cell_type": "code",
   "execution_count": 1,
   "id": "b37b4c7a",
   "metadata": {},
   "outputs": [
    {
     "name": "stdout",
     "output_type": "stream",
     "text": [
      "** Start Lotto **\n",
      "Numbers:  14 23 26 28 36 38 "
     ]
    }
   ],
   "source": [
    "import random\n",
    "\n",
    "# get random number\n",
    "def get_number():\n",
    "    return random.randrange(1, 46)\n",
    "\n",
    "lotto = []\n",
    "\n",
    "print(\"** Start Lotto **\")\n",
    "\n",
    "# append the lotto number into lotto list\n",
    "while True:\n",
    "    num = get_number()\n",
    "    \n",
    "    if lotto.count(num) ==0:\n",
    "        lotto.append(num)\n",
    "    if len(lotto) >=6:\n",
    "        break\n",
    "\n",
    "# print the numbers\n",
    "print(\"Numbers: \", end=' ')\n",
    "lotto.sort()\n",
    "for number in lotto:\n",
    "    print(number, end=' ')\n",
    "\n",
    "\n"
   ]
  }
 ],
 "metadata": {
  "kernelspec": {
   "display_name": "Python 3 (ipykernel)",
   "language": "python",
   "name": "python3"
  },
  "language_info": {
   "codemirror_mode": {
    "name": "ipython",
    "version": 3
   },
   "file_extension": ".py",
   "mimetype": "text/x-python",
   "name": "python",
   "nbconvert_exporter": "python",
   "pygments_lexer": "ipython3",
   "version": "3.11.4"
  }
 },
 "nbformat": 4,
 "nbformat_minor": 5
}
