{
 "cells": [
  {
   "cell_type": "code",
   "execution_count": 2,
   "id": "21241033",
   "metadata": {},
   "outputs": [
    {
     "name": "stdout",
     "output_type": "stream",
     "text": [
      "turtle bye!\n"
     ]
    }
   ],
   "source": [
    "import turtle\n",
    "\n",
    "# Set the screen dimensions\n",
    "screen_width, screen_height = 300, 300\n",
    "\n",
    "# Set the turtle screen\n",
    "turtle.title(\"Drawing rainbos circles\") # Window title\n",
    "turtle.shape(\"turtle\") # turtle's shape\n",
    "turtle.setup(width=screen_width+50, height=screen_height+50) # Screen with some extra space\n",
    "turtle.screensize(screen_width,screen_height) # Screen size\n",
    "turtle.penup()\n",
    "turtle.goto(0, -screen_height/2) # Move the turtle \n",
    "turtle.pendown()\n",
    "turtle.speed(5)\n",
    "\n",
    "# Loop to draw rainbow circles\n",
    "for radius in range(1,50):\n",
    "    if radius % 7 ==0:\n",
    "        turtle.pencolor('red') # Set the pen : red color  \n",
    "    elif radius % 7 ==1:\n",
    "        turtle.pencolor('orange') # Set the pen : orange color  \n",
    "    elif radius % 7 ==2:\n",
    "        turtle.pencolor('yellow') # Set the pen : yellow color  \n",
    "    elif radius % 7 ==3:\n",
    "        turtle.pencolor('green') # Set the pen : green color  \n",
    "    elif radius % 7 ==4:\n",
    "        turtle.pencolor('blue') # Set the pen : blue color  \n",
    "    elif radius % 7 ==5:\n",
    "        turtle.pencolor('navyblue') # Set the pen : navyblue color  \n",
    "    elif radius % 7 ==6:\n",
    "        turtle.pencolor('purple') # Set the pen : purple color  \n",
    "    turtle.circle(radius) # Draw a circle\n",
    "    \n",
    "# Finish drawing    \n",
    "turtle.done()\n",
    "\n",
    "# Close the turtle\n",
    "try:\n",
    "    turtle.bye()\n",
    "except:\n",
    "    print(\"turtle bye!\")"
   ]
  },
  {
   "cell_type": "code",
   "execution_count": null,
   "id": "962f3ed1",
   "metadata": {},
   "outputs": [],
   "source": []
  }
 ],
 "metadata": {
  "kernelspec": {
   "display_name": "Python 3 (ipykernel)",
   "language": "python",
   "name": "python3"
  },
  "language_info": {
   "codemirror_mode": {
    "name": "ipython",
    "version": 3
   },
   "file_extension": ".py",
   "mimetype": "text/x-python",
   "name": "python",
   "nbconvert_exporter": "python",
   "pygments_lexer": "ipython3",
   "version": "3.11.4"
  }
 },
 "nbformat": 4,
 "nbformat_minor": 5
}
