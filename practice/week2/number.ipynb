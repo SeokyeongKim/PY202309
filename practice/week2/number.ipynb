{
 "cells": [
  {
   "cell_type": "code",
   "execution_count": 1,
   "id": "7d33653b",
   "metadata": {},
   "outputs": [
    {
     "name": "stdout",
     "output_type": "stream",
     "text": [
      "What do you call a bear with no teeth?\n",
      "A gummy bear!\n"
     ]
    }
   ],
   "source": [
    "#print joke in one line\n",
    "print(\"What do you call a bear with no teeth?\\nA gummy bear!\")"
   ]
  },
  {
   "cell_type": "code",
   "execution_count": 3,
   "id": "ce8e07ed",
   "metadata": {},
   "outputs": [
    {
     "name": "stdout",
     "output_type": "stream",
     "text": [
      "Enter your name: Seokyoung\n",
      "Hello, Seokyoung\n"
     ]
    }
   ],
   "source": [
    "#input user's name \n",
    "user_name = input(\"Enter your name: \")\n",
    "\n",
    "#print user's name \n",
    "print(\"Hello, \" + user_name)"
   ]
  },
  {
   "cell_type": "code",
   "execution_count": 4,
   "id": "12a570be",
   "metadata": {},
   "outputs": [
    {
     "name": "stdout",
     "output_type": "stream",
     "text": [
      "Input your name: Seokyoung\n",
      "Input your last name: Kim\n",
      "Hello, SeokyoungKim\n"
     ]
    }
   ],
   "source": [
    "#input user's first name \n",
    "input_name = input(\"Input your name: \")\n",
    "\n",
    "#input user's last name \n",
    "input_lastname = input(\"Input your last name: \")\n",
    "\n",
    "#input user's full name \n",
    "print(\"Hello, \" + input_name + input_lastname)"
   ]
  },
  {
   "cell_type": "code",
   "execution_count": 10,
   "id": "1c17a177",
   "metadata": {},
   "outputs": [
    {
     "name": "stdout",
     "output_type": "stream",
     "text": [
      "Input your first number: 10\n",
      "Input your second number: 30\n",
      "10 + 30 = 40\n"
     ]
    }
   ],
   "source": [
    "#input first number \n",
    "input_fn = int(input(\"Input your first number: \"))\n",
    "\n",
    "#input second number \n",
    "input_sn = int(input(\"Input your second number: \"))\n",
    "\n",
    "#print result of first number + second number \n",
    "print(input_fn ,\"+\", input_sn, \"=\", int(input_fn + input_sn)"
   ]
  },
  {
   "cell_type": "code",
   "execution_count": 1,
   "id": "7c2f3884",
   "metadata": {},
   "outputs": [
    {
     "name": "stdout",
     "output_type": "stream",
     "text": [
      "Enter your first number: 10\n",
      "Enter your second number: 20\n",
      "Enter your third number: 30\n",
      "10 + 20 * 30 = 610\n",
      "( 10 + 20 ) * 30 = 900\n"
     ]
    }
   ],
   "source": [
    "#input user's first number\n",
    "num1 = int(input(\"Enter your first number: \"))\n",
    "\n",
    "#input user's second number\n",
    "num2 = int(input(\"Enter your second number: \"))\n",
    "\n",
    "#input user's third number\n",
    "num3 = int(input(\"Enter your third number: \"))\n",
    "\n",
    "#print calculation of without bracket\n",
    "print(num1 ,\"+\", num2, \"*\", num3, \"=\", num1 + num2 * num3)\n",
    "\n",
    "#print calculation of include bracket\n",
    "print(\"(\", num1 ,\"+\", num2,\") *\", num3, \"=\", (num1 + num2) * num3)"
   ]
  },
  {
   "cell_type": "code",
   "execution_count": 2,
   "id": "242df61c",
   "metadata": {},
   "outputs": [
    {
     "name": "stdout",
     "output_type": "stream",
     "text": [
      "Enter the number of slices of pizza you started with : 10\n",
      "How many slices have you eaten? : 5\n",
      "You have 5 slicing remaining.\n"
     ]
    }
   ],
   "source": [
    "#input initial pizza slices\n",
    "initial_slices = int(input(\"Enter the number of slices of pizza you started with : \"))\n",
    "\n",
    "#input number of eaten pizza slices\n",
    "ate_slices = int(input(\"How many slices have you eaten? : \"))\n",
    "\n",
    "#calculate remaining slices\n",
    "remaining_slices = initial_slices - ate_slices\n",
    "\n",
    "#print remaining slices\n",
    "print(\"You have\", remaining_slices, \"slicing remaining.\")"
   ]
  },
  {
   "cell_type": "code",
   "execution_count": 19,
   "id": "2cc221d4",
   "metadata": {},
   "outputs": [
    {
     "name": "stdout",
     "output_type": "stream",
     "text": [
      "Please enter your name: Seokyoung\n",
      "Please enter your age: 25\n",
      "Seokyoung, next birthday you will be 26\n"
     ]
    }
   ],
   "source": [
    "#input user's name\n",
    "user_name1 = input(\"Please enter your name: \")\n",
    "\n",
    "#input user's age\n",
    "user_age = int(input(\"Please enter your age: \"))\n",
    "\n",
    "#calculate user's next year age\n",
    "user_age += 1\n",
    "\n",
    "#print user's next year age\n",
    "print(user_name + \", next birthday you will be\", user_age)"
   ]
  },
  {
   "cell_type": "code",
   "execution_count": 21,
   "id": "269f4886",
   "metadata": {},
   "outputs": [
    {
     "name": "stdout",
     "output_type": "stream",
     "text": [
      "What is the total cost of the bill? : 5500\n",
      "How many people are there? : 3\n",
      "Each person should pay  1833.3333333333333 won.\n"
     ]
    }
   ],
   "source": [
    "#input total cost of the bill\n",
    "cost = float(input(\"What is the total cost of the bill? : \"))\n",
    "\n",
    "#input number of people\n",
    "people = int(input(\"How many people are there? : \"))\n",
    "\n",
    "#calculate individual cost of the bill\n",
    "ind_cost = cost / people\n",
    "\n",
    "#print individual cost of the bill\n",
    "print(\"Each person should pay \", ind_cost, \"won.\")"
   ]
  },
  {
   "cell_type": "code",
   "execution_count": 24,
   "id": "ed7e770e",
   "metadata": {},
   "outputs": [
    {
     "name": "stdout",
     "output_type": "stream",
     "text": [
      "Enter the number of days: 10\n",
      "In 10 days there are...\n",
      "240 hours\n",
      "14400 minutes\n",
      "864000 seconds\n"
     ]
    }
   ],
   "source": [
    "#input the number of days\n",
    "days = int(input(\"Enter the number of days: \"))\n",
    "\n",
    "#calculate the hours\n",
    "hours = days * 24 \n",
    "\n",
    "#calculate the minutes\n",
    "minutes = hours * 60\n",
    "\n",
    "#calculate the seconds\n",
    "seconds = minutes * 60\n",
    "\n",
    "#print number of days\n",
    "print(\"In\", days, \"days there are...\")\n",
    "\n",
    "#print hours\n",
    "print(hours, \"hours\")\n",
    "\n",
    "#print minutes\n",
    "print(minutes, \"minutes\")\n",
    "\n",
    "#print seconds\n",
    "print(seconds, \"seconds\")"
   ]
  },
  {
   "cell_type": "code",
   "execution_count": 26,
   "id": "e9651cd7",
   "metadata": {},
   "outputs": [
    {
     "name": "stdout",
     "output_type": "stream",
     "text": [
      "Enter the number of kilos : 10\n",
      "That is  22.040000000000003 pounds.\n"
     ]
    }
   ],
   "source": [
    "#input the number of kilos\n",
    "kilos = float(input(\"Enter the number of kilos : \"))\n",
    "\n",
    "#calculate pounds\n",
    "pounds = kilos * 2.204\n",
    "\n",
    "#print pounds\n",
    "print(\"That is \", pounds,\"pounds.\")"
   ]
  },
  {
   "cell_type": "code",
   "execution_count": 29,
   "id": "bafdae22",
   "metadata": {},
   "outputs": [
    {
     "name": "stdout",
     "output_type": "stream",
     "text": [
      "Enter the number over 100 : 120\n",
      "Enter the number under 10 : 5\n",
      "5 goes into 120 24 times\n"
     ]
    }
   ],
   "source": [
    "#input the number of over 100\n",
    "over = int(input(\"Enter the number over 100 : \"))\n",
    "\n",
    "#input the number of under 10\n",
    "under = int(input(\"Enter the number under 10 : \"))\n",
    "\n",
    "#calculate result\n",
    "result = over // under\n",
    "\n",
    "#print result\n",
    "print(under, \"goes into\", over, result ,\"times\")"
   ]
  }
 ],
 "metadata": {
  "kernelspec": {
   "display_name": "Python 3 (ipykernel)",
   "language": "python",
   "name": "python3"
  },
  "language_info": {
   "codemirror_mode": {
    "name": "ipython",
    "version": 3
   },
   "file_extension": ".py",
   "mimetype": "text/x-python",
   "name": "python",
   "nbconvert_exporter": "python",
   "pygments_lexer": "ipython3",
   "version": "3.11.4"
  }
 },
 "nbformat": 4,
 "nbformat_minor": 5
}
