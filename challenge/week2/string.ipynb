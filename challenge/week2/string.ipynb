{
 "cells": [
  {
   "cell_type": "code",
   "execution_count": 11,
   "id": "bed57722",
   "metadata": {},
   "outputs": [
    {
     "name": "stdout",
     "output_type": "stream",
     "text": [
      "Enter your first name: Seokyoung\n",
      "The length of your name is  9\n"
     ]
    }
   ],
   "source": [
    "# input user's name\n",
    "user_name = input(\"Enter your first name: \")\n",
    "\n",
    "#calculate the length of the name\n",
    "name_length = len(user_name)\n",
    "print(\"The length of your name is \", name_length)"
   ]
  },
  {
   "cell_type": "code",
   "execution_count": 12,
   "id": "6e228e06",
   "metadata": {},
   "outputs": [
    {
     "name": "stdout",
     "output_type": "stream",
     "text": [
      "Enter your first name: Seokyoung\n",
      "Enter your last name: Kim\n",
      "Your name with a blank is  Seokyoung Kim\n",
      "The total length is 13\n"
     ]
    }
   ],
   "source": [
    "# input user's first name\n",
    "first_name = input(\"Enter your first name: \")\n",
    "\n",
    "# input user's last name\n",
    "last_name = input(\"Enter your last name: \")\n",
    "\n",
    "# input the first name and last name with a space \n",
    "full_name = first_name + \" \" + last_name\n",
    "\n",
    "# calculate and print the length of the full name\n",
    "name_length = len(full_name)\n",
    "\n",
    "print(\"Your name with a blank is \", full_name)\n",
    "print(\"The total length is\", name_length)"
   ]
  },
  {
   "cell_type": "code",
   "execution_count": 13,
   "id": "ebbe8bae",
   "metadata": {},
   "outputs": [
    {
     "name": "stdout",
     "output_type": "stream",
     "text": [
      "Enter the word: Seokyoung\n",
      "Upper:  SEOKYOUNG\n",
      "Lower:  seokyoung\n"
     ]
    }
   ],
   "source": [
    "user_word = input(\"Enter the word: \")\n",
    "\n",
    "# print the word (Upper)\n",
    "uppercase = user_word.upper()\n",
    "print(\"Upper: \", uppercase)\n",
    "\n",
    "# print the word (lower)\n",
    "lowercase = user_word.lower()\n",
    "print(\"Lower: \", lowercase)"
   ]
  },
  {
   "cell_type": "code",
   "execution_count": 14,
   "id": "f1a0872d",
   "metadata": {},
   "outputs": [
    {
     "name": "stdout",
     "output_type": "stream",
     "text": [
      "Please enter your first name: seokyoung\n",
      "New first name is:  Seokyoung\n"
     ]
    }
   ],
   "source": [
    "# input user's first name\n",
    "first_name = input(\"Please enter your first name: \")\n",
    "\n",
    "# capitalize the first letter of first name\n",
    "first_name = first_name[0].upper() + first_name[1:]\n",
    "\n",
    "# print the result\n",
    "print(\"New first name is: \",first_name)"
   ]
  }
 ],
 "metadata": {
  "kernelspec": {
   "display_name": "Python 3 (ipykernel)",
   "language": "python",
   "name": "python3"
  },
  "language_info": {
   "codemirror_mode": {
    "name": "ipython",
    "version": 3
   },
   "file_extension": ".py",
   "mimetype": "text/x-python",
   "name": "python",
   "nbconvert_exporter": "python",
   "pygments_lexer": "ipython3",
   "version": "3.11.4"
  }
 },
 "nbformat": 4,
 "nbformat_minor": 5
}
