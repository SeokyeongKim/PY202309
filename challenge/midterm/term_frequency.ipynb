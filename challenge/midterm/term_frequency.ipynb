{
 "cells": [
  {
   "cell_type": "code",
   "execution_count": 1,
   "metadata": {},
   "outputs": [
    {
     "name": "stdout",
     "output_type": "stream",
     "text": [
      "-----TF dictionary-----\n",
      "{'the': 3, 'quick': 1, 'brown': 1, 'fox': 1, 'jumps': 1, 'over': 1, 'lazy': 1, 'dog': 1, 'a': 3, 'journey': 1, 'of': 2, 'thousand': 1, 'miles': 1, 'begins': 1, 'with': 1, 'single': 1, 'step': 1, 'all': 1, 'that': 1, 'glitters': 1, 'is': 1, 'not': 1, 'gold': 1, 'in': 1, 'middle': 1, 'difficulty': 1, 'lies': 1, 'opportunity': 1, 'she': 1, 'likes': 1, 'to': 1, 'read': 1, 'books': 1}\n",
      "-----Top-3 TF terms-----\n",
      "1\tthe\t3\n",
      "2\ta\t3\n",
      "3\tof\t2\n"
     ]
    }
   ],
   "source": [
    "import operator\n",
    "sentences = [\n",
    "    \"The quick brown fox jumps over the lazy dog.\",\n",
    "    \"A journey of a thousand miles begins with a single step.\",\n",
    "    \"All that glitters is not gold.\",    \n",
    "    \"In the middle of difficulty lies opportunity.\",\n",
    "    \"She likes to read books.\"\n",
    "]\n",
    "\n",
    "\n",
    "# TODO 1: 토큰 집합 만들기\n",
    "total_terms =[]\n",
    "for sentence in sentences:   #문장을 받아서 \n",
    "    preprocessed_sentences = sentence.lower().replace(\".\", \"\").split()  # \" \", \".\" 단위로 나눠서 set에 저장\n",
    "    for preprocessed_sentence in preprocessed_sentences:  # 저장한 set를 차례대로 total_terms에 추가\n",
    "        total_terms.append(preprocessed_sentence)\n",
    "\n",
    "\n",
    "term_frequency_dict = {} # 토큰 별 단어 빈도 저장할 딕셔너리\n",
    "\n",
    "# TODO 2: 토큰 별 단어 빈도를 딕셔너리에 저장\n",
    "for i in total_terms:  # total_terms을 받아\n",
    "    cnt = total_terms.count(i)  # 리스트 안 단어의 갯수만큼 카운트\n",
    "    term_frequency_dict[i] = cnt # 해당하는 단어를 갯수와 페어링하여 딕셔너리에 저장\n",
    "\n",
    "\n",
    "# 토큰 빈도 출력\n",
    "print(\"-----TF dictionary-----\")\n",
    "print(term_frequency_dict)\n",
    "\n",
    "\n",
    "print(\"-----Top-3 TF terms-----\")\n",
    "# TODO 3: Top-3 토큰 빈도를 갖는 단어의 순위, 단어, 빈도 출력 코드 작성    \n",
    "res = sorted(term_frequency_dict.items(), key = operator.itemgetter(1), reverse = True) # 오름 차순으로 정렬 후 \n",
    "\n",
    "rank = 1\n",
    "for i, score in res: # 랭크 순위 3등까지 출력\n",
    "    print(rank, i, score, sep =\"\\t\")\n",
    "    if rank == 3:\n",
    "        break\n",
    "    rank = rank + 1"
   ]
  },
  {
   "cell_type": "code",
   "execution_count": null,
   "metadata": {},
   "outputs": [],
   "source": []
  }
 ],
 "metadata": {
  "kernelspec": {
   "display_name": "Python 3.11.4 ('base')",
   "language": "python",
   "name": "python3"
  },
  "language_info": {
   "codemirror_mode": {
    "name": "ipython",
    "version": 3
   },
   "file_extension": ".py",
   "mimetype": "text/x-python",
   "name": "python",
   "nbconvert_exporter": "python",
   "pygments_lexer": "ipython3",
   "version": "3.11.4"
  },
  "orig_nbformat": 4,
  "vscode": {
   "interpreter": {
    "hash": "c85abbf3fe96ea8d263374b2ce1ffe851e2aa65d51a6f06c7260e0a203315a09"
   }
  }
 },
 "nbformat": 4,
 "nbformat_minor": 2
}
