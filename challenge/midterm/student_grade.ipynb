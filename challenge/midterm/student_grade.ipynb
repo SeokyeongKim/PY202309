{
 "cells": [
  {
   "cell_type": "code",
   "execution_count": 20,
   "metadata": {},
   "outputs": [
    {
     "name": "stdout",
     "output_type": "stream",
     "text": [
      "-----학생들의 평균 점수-----\n",
      "실바의 평균 점수는 73.66666666666667 입니다.\n",
      "산토스의 평균 점수는 86.93333333333334 입니다.\n",
      "맥그리거의 평균 점수는 85.7 입니다.\n",
      "알도의 평균 점수는 85.43333333333332 입니다.\n",
      "로우지의 평균 점수는 83.10000000000001 입니다.\n",
      "누네스의 평균 점수는 85.93333333333334 입니다.\n"
     ]
    }
   ],
   "source": [
    "# (2.1) Functioning (1.1) code block\n",
    "def loadData(file_path):\n",
    "    data = {}  # Generate empty dictionary\n",
    "    with open(file_path, 'r') as file: # Open the file with read option\n",
    "        lines = file.readlines() # Read the file lines\n",
    "        for line in lines[1:]: # Except the header lines\n",
    "            elements = line.strip().split(',')  # Split to the lines with ',' \n",
    "            name = elements[0]  # Get the name in elements\n",
    "            scores = list(map(float, elements[1:]))  # Mapping the scores to float types\n",
    "            data[name] = scores  # Save the score in data dictionary\n",
    "    return data\n",
    "\n",
    "# (2.2) Receive a list of numbers and return the average \n",
    "def getAverage(numbers):\n",
    "    return sum(numbers) / len(numbers) # Calculate the average\n",
    "\n",
    "\n",
    "# Main function\n",
    "def main():\n",
    "    file_path = 'student.csv'\n",
    "\n",
    "    # (1.1) Save student grades to dictionaries\n",
    "    student_data = loadData(file_path)\n",
    "\n",
    "    # (1.2) Print out the average score of each student's grade\n",
    "    print(\"-----학생들의 평균 점수-----\")\n",
    "    for name, scores in student_data.items():  # Get Student's name and scores using 'for' statement \n",
    "        average_score = getAverage(scores)  # Calculate average score each students\n",
    "        print(f\"{name}의 평균 점수는 {average_score} 입니다.\")  # Print studentsaverage score \n",
    "\n",
    "    # (1.3) Save average Score to File (average.txt)\n",
    "    with open('average.txt', 'w') as output_file:  # make file of 'average.txt' with write option\n",
    "        output_file.write(f\"-----학생들의 평균 점수-----\\n\")\n",
    "        for name, scores in student_data.items(): # Get Student's name and scores using 'for' statement \n",
    "            average_score = getAverage(scores) # Calculate average score each students\n",
    "            output_file.write(f\"{name}의 평균 점수는 {average_score} 입니다.\\n\")  # write average score in 'average.txt'\n",
    "\n",
    "# Calling the main statement\n",
    "if __name__ == \"__main__\":\n",
    "    main()\n",
    "\n"
   ]
  }
 ],
 "metadata": {
  "kernelspec": {
   "display_name": "Python 3.11.4 ('base')",
   "language": "python",
   "name": "python3"
  },
  "language_info": {
   "codemirror_mode": {
    "name": "ipython",
    "version": 3
   },
   "file_extension": ".py",
   "mimetype": "text/x-python",
   "name": "python",
   "nbconvert_exporter": "python",
   "pygments_lexer": "ipython3",
   "version": "3.11.4"
  },
  "orig_nbformat": 4,
  "vscode": {
   "interpreter": {
    "hash": "c85abbf3fe96ea8d263374b2ce1ffe851e2aa65d51a6f06c7260e0a203315a09"
   }
  }
 },
 "nbformat": 4,
 "nbformat_minor": 2
}
