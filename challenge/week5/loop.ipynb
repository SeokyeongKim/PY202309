{
 "cells": [
  {
   "cell_type": "code",
   "execution_count": 8,
   "id": "8ea4ce05",
   "metadata": {},
   "outputs": [
    {
     "name": "stdout",
     "output_type": "stream",
     "text": [
      "#     2    ##     3    ##     4    ##     5    ##     6    ##     7    ##     8    ##     9    #\n",
      " 2 X  9 = 18 3 X  9 = 27 4 X  9 = 36 5 X  9 = 45 6 X  9 = 54 7 X  9 = 63 8 X  9 = 72 9 X  9 = 81\n",
      " 2 X  9 = 18 3 X  9 = 27 4 X  9 = 36 5 X  9 = 45 6 X  9 = 54 7 X  9 = 63 8 X  9 = 72 9 X  9 = 81\n",
      " 2 X  9 = 18 3 X  9 = 27 4 X  9 = 36 5 X  9 = 45 6 X  9 = 54 7 X  9 = 63 8 X  9 = 72 9 X  9 = 81\n",
      " 2 X  9 = 18 3 X  9 = 27 4 X  9 = 36 5 X  9 = 45 6 X  9 = 54 7 X  9 = 63 8 X  9 = 72 9 X  9 = 81\n",
      " 2 X  9 = 18 3 X  9 = 27 4 X  9 = 36 5 X  9 = 45 6 X  9 = 54 7 X  9 = 63 8 X  9 = 72 9 X  9 = 81\n",
      " 2 X  9 = 18 3 X  9 = 27 4 X  9 = 36 5 X  9 = 45 6 X  9 = 54 7 X  9 = 63 8 X  9 = 72 9 X  9 = 81\n",
      " 2 X  9 = 18 3 X  9 = 27 4 X  9 = 36 5 X  9 = 45 6 X  9 = 54 7 X  9 = 63 8 X  9 = 72 9 X  9 = 81\n",
      " 2 X  9 = 18 3 X  9 = 27 4 X  9 = 36 5 X  9 = 45 6 X  9 = 54 7 X  9 = 63 8 X  9 = 72 9 X  9 = 81\n",
      " 2 X  9 = 18 3 X  9 = 27 4 X  9 = 36 5 X  9 = 45 6 X  9 = 54 7 X  9 = 63 8 X  9 = 72 9 X  9 = 81\n"
     ]
    }
   ],
   "source": [
    "# Initialize variables\n",
    "i, guguline = 2, \"\"\n",
    "\n",
    "# 1st loop: This loop generates the header row with numbers from 2 to 9\n",
    "while i < 10:\n",
    "    guguline = guguline + (\"#     %d    #\"%i)\n",
    "    i+=1\n",
    "    \n",
    "# Print the header row\n",
    "print(guguline)\n",
    "\n",
    "# Reset variables\n",
    "i=1\n",
    "\n",
    "# 2nd loop: This loop generates the multiplication table for numbers 1 to 9\n",
    "while i <10:\n",
    "    # Reset the gugu string for each new row\n",
    "    guguline=\"\"\n",
    "    k=2\n",
    "    # 3rd loop: loop generates the multiplication row for the current value of 'i'\n",
    "    while k <10:\n",
    "        guguline = guguline + str(\"%2d X %2d = %2d\"%(k,i,k*i))\n",
    "        k+=1\n",
    "    # Print the multiplication row for the current value of 'i'\n",
    "    print(gugu)\n",
    "    # Move to the next row by incrementing 'i'\n",
    "    i+=1"
   ]
  }
 ],
 "metadata": {
  "kernelspec": {
   "display_name": "Python 3 (ipykernel)",
   "language": "python",
   "name": "python3"
  },
  "language_info": {
   "codemirror_mode": {
    "name": "ipython",
    "version": 3
   },
   "file_extension": ".py",
   "mimetype": "text/x-python",
   "name": "python",
   "nbconvert_exporter": "python",
   "pygments_lexer": "ipython3",
   "version": "3.11.4"
  }
 },
 "nbformat": 4,
 "nbformat_minor": 5
}
