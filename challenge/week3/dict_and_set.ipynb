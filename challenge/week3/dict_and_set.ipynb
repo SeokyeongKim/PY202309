{
 "cells": [
  {
   "cell_type": "code",
   "execution_count": 9,
   "id": "2f839532",
   "metadata": {},
   "outputs": [
    {
     "name": "stdout",
     "output_type": "stream",
     "text": [
      "Enter English number ranging from 1 to 5: three\n",
      "three is 삼\n"
     ]
    }
   ],
   "source": [
    "# create dictionary and store numbers up to 5 key-value pairs\n",
    "eng_to_kor = {\n",
    "    \"one\": \"일\",\n",
    "    \"two\": \"이\",\n",
    "    \"three\": \"삼\",\n",
    "    \"four\": \"사\",\n",
    "    \"five\": \"오\"\n",
    "}\n",
    "\n",
    "\n",
    "while True:\n",
    "    # input user's english number\n",
    "    user_input = input(\"Enter English number ranging from 1 to 5: \").lower()\n",
    "    \n",
    "    # exception handling\n",
    "    if user_input in eng_to_kor:\n",
    "        break\n",
    "    else:\n",
    "        print(\"Invalid input\")\n",
    "\n",
    "# print the corresponding Korean number\n",
    "kor_num = english_to_korean[user_input]\n",
    "print(f\"{user_input} is {kor_num}\")\n"
   ]
  },
  {
   "cell_type": "code",
   "execution_count": 10,
   "id": "49658455",
   "metadata": {},
   "outputs": [
    {
     "name": "stdout",
     "output_type": "stream",
     "text": [
      "Name : 'Moving' / average: 4.0\n",
      "Name : 'Mask Girl' / average: 3.6666666666666665\n",
      "Name : 'Oppenheimer' / average: 3.3333333333333335\n"
     ]
    }
   ],
   "source": [
    "# create dictionary - nested dictionary\n",
    "ratings = {\n",
    "    \"Moving\": {\"Misoo\": 4, \"Kwon\": 3, \"Soo\": 5},\n",
    "    \"Mask Girl\": {\"Misoo\": 3, \"David\": 4, \"Soo\": 4},\n",
    "    \"Oppenheimer\": {\"Kwon\": 3, \"Bob\": 3, \"David\": 4}\n",
    "}\n",
    "\n",
    "# initialize a dictionary \n",
    "avg_scores = {}\n",
    "\n",
    "# calculate the average scores for each movie\n",
    "for movie, scores in ratings.items():\n",
    "    total_score = sum(scores.values())\n",
    "    num_reviewers = len(scores)\n",
    "    avg_score = total_score / num_reviewers\n",
    "    avg_scores[movie] = avg_score\n",
    "\n",
    "# print the average scores for each movie\n",
    "for movie, avg_score in avg_scores.items():\n",
    "    print(f\"Name : '{movie}' / average: {avg_score:}\")\n"
   ]
  },
  {
   "cell_type": "code",
   "execution_count": 11,
   "id": "8db502c4",
   "metadata": {},
   "outputs": [
    {
     "name": "stdout",
     "output_type": "stream",
     "text": [
      "Enter user1's 1 friend name : 철수\n",
      "Enter user1's 2 friend name : 영수\n",
      "Enter user1's 3 friend name : 영희\n",
      "Enter user2's 1 friend name : 철희\n",
      "Enter user2's 2 friend name : 영수\n",
      "Enter user2's 3 friend name : 동수\n",
      "All friends : 영수 철수 철희 영희 동수\n"
     ]
    }
   ],
   "source": [
    "# input the names of three friends for user1 \n",
    "user1_friends = set()\n",
    "for i in range(3):\n",
    "    friend_name = input(f\"Enter user1's {i + 1} friend name : \")\n",
    "    user1_friends.add(friend_name)\n",
    "\n",
    "# input the names of three friends for user2\n",
    "user2_friends = set()\n",
    "for i in range(3):\n",
    "    friend_name = input(f\"Enter user2's {i + 1} friend name : \")\n",
    "    user2_friends.add(friend_name)\n",
    "\n",
    "# combine the friend lists of both users\n",
    "combined_friends = user1_friends.union(user2_friends)\n",
    "\n",
    "# print all friend names to ensure there are no duplicates\n",
    "print(\"All friends :\", *combined_friends)\n"
   ]
  }
 ],
 "metadata": {
  "kernelspec": {
   "display_name": "Python 3 (ipykernel)",
   "language": "python",
   "name": "python3"
  },
  "language_info": {
   "codemirror_mode": {
    "name": "ipython",
    "version": 3
   },
   "file_extension": ".py",
   "mimetype": "text/x-python",
   "name": "python",
   "nbconvert_exporter": "python",
   "pygments_lexer": "ipython3",
   "version": "3.11.4"
  }
 },
 "nbformat": 4,
 "nbformat_minor": 5
}
