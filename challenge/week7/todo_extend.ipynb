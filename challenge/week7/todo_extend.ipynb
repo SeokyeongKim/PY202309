{
 "cells": [
  {
   "cell_type": "code",
   "execution_count": 2,
   "id": "e52a220d",
   "metadata": {},
   "outputs": [
    {
     "name": "stdout",
     "output_type": "stream",
     "text": [
      "Error : There is no file. Please check!\n"
     ]
    }
   ],
   "source": [
    "# Appends a task to the task list.\n",
    "def add_task(task_list, task):\n",
    "    task_list.append(task) \n",
    "\n",
    "# Print the tasks in the task list, or a message if the list is empty.\n",
    "def display_tasks(task_list):\n",
    "    if not task_list:\n",
    "        print(\"할일이 없습니다.\")\n",
    "    else:\n",
    "        print(\"할일 목록:\")\n",
    "        for i, task in enumerate(task_list, start=1):\n",
    "            print(f\"{i}. {task}\")\n",
    "\n",
    "# Saves the tasks in the task list to a file.\n",
    "def save_tasks_to_file(task_list, filename):\n",
    "    try:\n",
    "        with open(filename, 'w') as file:\n",
    "            for task in task_list:\n",
    "                file.write(task + '\\n')\n",
    "    except IOError:\n",
    "        print(\"Error : Can't save the task list to file\")\n",
    "        return False\n",
    "\n",
    "# Loads tasks from a file into a task list.        \n",
    "def load_tasks_from_file(filename):\n",
    "    task_list = []\n",
    "    try:\n",
    "        with open(filename, 'r') as file:\n",
    "            for line in file:\n",
    "                task_list.append(line.strip())\n",
    "    except IOError:\n",
    "        print(\"Error : There is no file. Please check!\")  \n",
    "        return False\n",
    "    return task_list\n",
    "\n",
    "\n",
    "file_name = \"tas\"\n",
    "task_list = load_tasks_from_file(file_name)\n",
    "\n",
    "\n",
    "while True:\n",
    "    if task_list is False:\n",
    "        break\n",
    "        \n",
    "    print(\"\\n할일 관리 프로그램\")\n",
    "    print(\"1. 할일 추가\")\n",
    "    print(\"2. 할일 목록 표시\")\n",
    "    print(\"3. 종료\")\n",
    "    \n",
    "\n",
    "    choice = input(\"선택: \")\n",
    "\n",
    "    if choice == '1':\n",
    "        task = input(\"할일을 입력하세요: \")\n",
    "        add_task(task_list, task)\n",
    "        print(\"할일이 추가되었습니다.\")\n",
    "    elif choice == '2':\n",
    "        display_tasks(task_list)\n",
    "    elif choice == '3':\n",
    "        save_tasks_to_file(task_list, file_name)\n",
    "        print(\"프로그램을 종료합니다.\")\n",
    "        break\n",
    "    else:\n",
    "        print(\"잘못된 선택입니다. 다시 시도하세요.\")"
   ]
  }
 ],
 "metadata": {
  "kernelspec": {
   "display_name": "Python 3 (ipykernel)",
   "language": "python",
   "name": "python3"
  },
  "language_info": {
   "codemirror_mode": {
    "name": "ipython",
    "version": 3
   },
   "file_extension": ".py",
   "mimetype": "text/x-python",
   "name": "python",
   "nbconvert_exporter": "python",
   "pygments_lexer": "ipython3",
   "version": "3.11.4"
  }
 },
 "nbformat": 4,
 "nbformat_minor": 5
}
